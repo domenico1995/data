{
  "nbformat": 4,
  "nbformat_minor": 0,
  "metadata": {
    "colab": {
      "provenance": [],
      "authorship_tag": "ABX9TyNs5pYQO6TGoqsrTDNtmXZe",
      "include_colab_link": true
    },
    "kernelspec": {
      "name": "python3",
      "display_name": "Python 3"
    },
    "language_info": {
      "name": "python"
    }
  },
  "cells": [
    {
      "cell_type": "markdown",
      "metadata": {
        "id": "view-in-github",
        "colab_type": "text"
      },
      "source": [
        "<a href=\"https://colab.research.google.com/github/domenico1995/data/blob/main/IGNC_Progect.ipynb\" target=\"_parent\"><img src=\"https://colab.research.google.com/assets/colab-badge.svg\" alt=\"Open In Colab\"/></a>"
      ]
    },
    {
      "cell_type": "code",
      "execution_count": 2,
      "metadata": {
        "colab": {
          "base_uri": "https://localhost:8080/"
        },
        "id": "cIPttwrigIUi",
        "outputId": "cb1bffdd-644d-4260-c9cc-51b86117b45f"
      },
      "outputs": [
        {
          "output_type": "stream",
          "name": "stdout",
          "text": [
            "Cloning into 'data'...\n",
            "remote: Enumerating objects: 233340, done.\u001b[K\n",
            "remote: Counting objects: 100% (77111/77111), done.\u001b[K\n",
            "remote: Compressing objects: 100% (77057/77057), done.\u001b[K\n",
            "remote: Total 233340 (delta 54), reused 77111 (delta 54), pack-reused 156229\n",
            "Receiving objects: 100% (233340/233340), 8.06 GiB | 34.15 MiB/s, done.\n",
            "Resolving deltas: 100% (175/175), done.\n",
            "Checking out files: 100% (233297/233297), done.\n"
          ]
        }
      ],
      "source": [
        "!git clone https://github.com/domenico1995/data.git\n"
      ]
    },
    {
      "cell_type": "code",
      "source": [
        "import pandas as pd\n",
        "\n",
        "interviews_df = pd.read_csv('data/test.tsv', sep='\\t')\n",
        "\n",
        "print(interviews_df.sentence)"
      ],
      "metadata": {
        "colab": {
          "base_uri": "https://localhost:8080/"
        },
        "id": "ZJRHuVkfoIwr",
        "outputId": "94911f3d-b592-4b4a-cb1e-c781f895eb8e"
      },
      "execution_count": 4,
      "outputs": [
        {
          "output_type": "stream",
          "name": "stdout",
          "text": [
            "0        Il libro ha suscitato molte polemiche a causa ...\n",
            "1        Fin dall'inizio la sede episcopale è stata imm...\n",
            "2        Fu il fondatore di molti chiostri, ospedali e ...\n",
            "3                                       Il vuoto assoluto?\n",
            "4        Dopo alcuni anni, egli decise di tornare in In...\n",
            "                               ...                        \n",
            "14968    Il club partecipa al National League North, ca...\n",
            "14969    In questo ambito si inquadrano i movimenti fon...\n",
            "14970    Grazie allo zio, Robbie trova lavoro a Water W...\n",
            "14971                               Lina Jacques-Sébastien\n",
            "14972    Wurm attraverso intrighi coinvolge una nobile ...\n",
            "Name: sentence, Length: 14973, dtype: object\n"
          ]
        }
      ]
    }
  ]
}